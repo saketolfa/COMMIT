{
 "cells": [
  {
   "cell_type": "code",
   "execution_count": 130,
   "metadata": {},
   "outputs": [],
   "source": [
    "\n",
    "# importing libraries\n",
    "import numpy as np\n",
    "import matplotlib.pyplot as plt \n",
    "import pandas as pd\n",
    "import seaborn as sns \n",
    "\n",
    "from sklearn.preprocessing import LabelEncoder\n",
    "from sklearn.impute import SimpleImputer\n",
    "from sklearn.linear_model import LogisticRegression\n",
    "from sklearn.model_selection import train_test_split\n",
    "from sklearn.metrics import confusion_matrix ,classification_report , roc_auc_score\n",
    "\n"
   ]
  },
  {
   "cell_type": "code",
   "execution_count": 101,
   "metadata": {},
   "outputs": [
    {
     "data": {
      "text/html": [
       "<div>\n",
       "<style scoped>\n",
       "    .dataframe tbody tr th:only-of-type {\n",
       "        vertical-align: middle;\n",
       "    }\n",
       "\n",
       "    .dataframe tbody tr th {\n",
       "        vertical-align: top;\n",
       "    }\n",
       "\n",
       "    .dataframe thead th {\n",
       "        text-align: right;\n",
       "    }\n",
       "</style>\n",
       "<table border=\"1\" class=\"dataframe\">\n",
       "  <thead>\n",
       "    <tr style=\"text-align: right;\">\n",
       "      <th></th>\n",
       "      <th>pclass</th>\n",
       "      <th>survived</th>\n",
       "      <th>name</th>\n",
       "      <th>sex</th>\n",
       "      <th>age</th>\n",
       "      <th>sibsp</th>\n",
       "      <th>parch</th>\n",
       "      <th>ticket</th>\n",
       "      <th>fare</th>\n",
       "      <th>cabin</th>\n",
       "      <th>embarked</th>\n",
       "      <th>boat</th>\n",
       "      <th>body</th>\n",
       "      <th>home.dest</th>\n",
       "    </tr>\n",
       "  </thead>\n",
       "  <tbody>\n",
       "    <tr>\n",
       "      <th>1304</th>\n",
       "      <td>3</td>\n",
       "      <td>0</td>\n",
       "      <td>Zabour, Miss. Hileni</td>\n",
       "      <td>female</td>\n",
       "      <td>14.5</td>\n",
       "      <td>1</td>\n",
       "      <td>0</td>\n",
       "      <td>2665</td>\n",
       "      <td>14.4542</td>\n",
       "      <td>NaN</td>\n",
       "      <td>C</td>\n",
       "      <td>NaN</td>\n",
       "      <td>328.0</td>\n",
       "      <td>NaN</td>\n",
       "    </tr>\n",
       "    <tr>\n",
       "      <th>1305</th>\n",
       "      <td>3</td>\n",
       "      <td>0</td>\n",
       "      <td>Zabour, Miss. Thamine</td>\n",
       "      <td>female</td>\n",
       "      <td>NaN</td>\n",
       "      <td>1</td>\n",
       "      <td>0</td>\n",
       "      <td>2665</td>\n",
       "      <td>14.4542</td>\n",
       "      <td>NaN</td>\n",
       "      <td>C</td>\n",
       "      <td>NaN</td>\n",
       "      <td>NaN</td>\n",
       "      <td>NaN</td>\n",
       "    </tr>\n",
       "    <tr>\n",
       "      <th>1306</th>\n",
       "      <td>3</td>\n",
       "      <td>0</td>\n",
       "      <td>Zakarian, Mr. Mapriededer</td>\n",
       "      <td>male</td>\n",
       "      <td>26.5</td>\n",
       "      <td>0</td>\n",
       "      <td>0</td>\n",
       "      <td>2656</td>\n",
       "      <td>7.2250</td>\n",
       "      <td>NaN</td>\n",
       "      <td>C</td>\n",
       "      <td>NaN</td>\n",
       "      <td>304.0</td>\n",
       "      <td>NaN</td>\n",
       "    </tr>\n",
       "    <tr>\n",
       "      <th>1307</th>\n",
       "      <td>3</td>\n",
       "      <td>0</td>\n",
       "      <td>Zakarian, Mr. Ortin</td>\n",
       "      <td>male</td>\n",
       "      <td>27.0</td>\n",
       "      <td>0</td>\n",
       "      <td>0</td>\n",
       "      <td>2670</td>\n",
       "      <td>7.2250</td>\n",
       "      <td>NaN</td>\n",
       "      <td>C</td>\n",
       "      <td>NaN</td>\n",
       "      <td>NaN</td>\n",
       "      <td>NaN</td>\n",
       "    </tr>\n",
       "    <tr>\n",
       "      <th>1308</th>\n",
       "      <td>3</td>\n",
       "      <td>0</td>\n",
       "      <td>Zimmerman, Mr. Leo</td>\n",
       "      <td>male</td>\n",
       "      <td>29.0</td>\n",
       "      <td>0</td>\n",
       "      <td>0</td>\n",
       "      <td>315082</td>\n",
       "      <td>7.8750</td>\n",
       "      <td>NaN</td>\n",
       "      <td>S</td>\n",
       "      <td>NaN</td>\n",
       "      <td>NaN</td>\n",
       "      <td>NaN</td>\n",
       "    </tr>\n",
       "  </tbody>\n",
       "</table>\n",
       "</div>"
      ],
      "text/plain": [
       "      pclass  survived                       name     sex   age  sibsp  parch  \\\n",
       "1304       3         0       Zabour, Miss. Hileni  female  14.5      1      0   \n",
       "1305       3         0      Zabour, Miss. Thamine  female   NaN      1      0   \n",
       "1306       3         0  Zakarian, Mr. Mapriededer    male  26.5      0      0   \n",
       "1307       3         0        Zakarian, Mr. Ortin    male  27.0      0      0   \n",
       "1308       3         0         Zimmerman, Mr. Leo    male  29.0      0      0   \n",
       "\n",
       "      ticket     fare cabin embarked boat   body home.dest  \n",
       "1304    2665  14.4542   NaN        C  NaN  328.0       NaN  \n",
       "1305    2665  14.4542   NaN        C  NaN    NaN       NaN  \n",
       "1306    2656   7.2250   NaN        C  NaN  304.0       NaN  \n",
       "1307    2670   7.2250   NaN        C  NaN    NaN       NaN  \n",
       "1308  315082   7.8750   NaN        S  NaN    NaN       NaN  "
      ]
     },
     "execution_count": 101,
     "metadata": {},
     "output_type": "execute_result"
    }
   ],
   "source": [
    "titanic = pd.read_excel('titanic.xls')\n",
    "titanic.tail(5)"
   ]
  },
  {
   "cell_type": "code",
   "execution_count": 102,
   "metadata": {},
   "outputs": [
    {
     "name": "stdout",
     "output_type": "stream",
     "text": [
      "<class 'pandas.core.frame.DataFrame'>\n",
      "RangeIndex: 1309 entries, 0 to 1308\n",
      "Data columns (total 14 columns):\n",
      " #   Column     Non-Null Count  Dtype  \n",
      "---  ------     --------------  -----  \n",
      " 0   pclass     1309 non-null   int64  \n",
      " 1   survived   1309 non-null   int64  \n",
      " 2   name       1309 non-null   object \n",
      " 3   sex        1309 non-null   object \n",
      " 4   age        1046 non-null   float64\n",
      " 5   sibsp      1309 non-null   int64  \n",
      " 6   parch      1309 non-null   int64  \n",
      " 7   ticket     1309 non-null   object \n",
      " 8   fare       1308 non-null   float64\n",
      " 9   cabin      295 non-null    object \n",
      " 10  embarked   1307 non-null   object \n",
      " 11  boat       486 non-null    object \n",
      " 12  body       121 non-null    float64\n",
      " 13  home.dest  745 non-null    object \n",
      "dtypes: float64(3), int64(4), object(7)\n",
      "memory usage: 143.3+ KB\n"
     ]
    }
   ],
   "source": [
    "titanic.info()"
   ]
  },
  {
   "cell_type": "code",
   "execution_count": 103,
   "metadata": {},
   "outputs": [
    {
     "data": {
      "text/html": [
       "<div>\n",
       "<style scoped>\n",
       "    .dataframe tbody tr th:only-of-type {\n",
       "        vertical-align: middle;\n",
       "    }\n",
       "\n",
       "    .dataframe tbody tr th {\n",
       "        vertical-align: top;\n",
       "    }\n",
       "\n",
       "    .dataframe thead th {\n",
       "        text-align: right;\n",
       "    }\n",
       "</style>\n",
       "<table border=\"1\" class=\"dataframe\">\n",
       "  <thead>\n",
       "    <tr style=\"text-align: right;\">\n",
       "      <th></th>\n",
       "      <th>pclass</th>\n",
       "      <th>survived</th>\n",
       "      <th>sex</th>\n",
       "      <th>age</th>\n",
       "      <th>sibsp</th>\n",
       "      <th>parch</th>\n",
       "      <th>fare</th>\n",
       "    </tr>\n",
       "  </thead>\n",
       "  <tbody>\n",
       "    <tr>\n",
       "      <th>0</th>\n",
       "      <td>1</td>\n",
       "      <td>1</td>\n",
       "      <td>female</td>\n",
       "      <td>29.0000</td>\n",
       "      <td>0</td>\n",
       "      <td>0</td>\n",
       "      <td>211.3375</td>\n",
       "    </tr>\n",
       "    <tr>\n",
       "      <th>1</th>\n",
       "      <td>1</td>\n",
       "      <td>1</td>\n",
       "      <td>male</td>\n",
       "      <td>0.9167</td>\n",
       "      <td>1</td>\n",
       "      <td>2</td>\n",
       "      <td>151.5500</td>\n",
       "    </tr>\n",
       "    <tr>\n",
       "      <th>2</th>\n",
       "      <td>1</td>\n",
       "      <td>0</td>\n",
       "      <td>female</td>\n",
       "      <td>2.0000</td>\n",
       "      <td>1</td>\n",
       "      <td>2</td>\n",
       "      <td>151.5500</td>\n",
       "    </tr>\n",
       "    <tr>\n",
       "      <th>3</th>\n",
       "      <td>1</td>\n",
       "      <td>0</td>\n",
       "      <td>male</td>\n",
       "      <td>30.0000</td>\n",
       "      <td>1</td>\n",
       "      <td>2</td>\n",
       "      <td>151.5500</td>\n",
       "    </tr>\n",
       "    <tr>\n",
       "      <th>4</th>\n",
       "      <td>1</td>\n",
       "      <td>0</td>\n",
       "      <td>female</td>\n",
       "      <td>25.0000</td>\n",
       "      <td>1</td>\n",
       "      <td>2</td>\n",
       "      <td>151.5500</td>\n",
       "    </tr>\n",
       "  </tbody>\n",
       "</table>\n",
       "</div>"
      ],
      "text/plain": [
       "   pclass  survived     sex      age  sibsp  parch      fare\n",
       "0       1         1  female  29.0000      0      0  211.3375\n",
       "1       1         1    male   0.9167      1      2  151.5500\n",
       "2       1         0  female   2.0000      1      2  151.5500\n",
       "3       1         0    male  30.0000      1      2  151.5500\n",
       "4       1         0  female  25.0000      1      2  151.5500"
      ]
     },
     "execution_count": 103,
     "metadata": {},
     "output_type": "execute_result"
    }
   ],
   "source": [
    "titanic = titanic.drop([ 'ticket','cabin','embarked','boat','home.dest','name' ,'body'], axis=1)\n",
    "titanic.head(5)"
   ]
  },
  {
   "cell_type": "code",
   "execution_count": 104,
   "metadata": {},
   "outputs": [],
   "source": [
    " # sex\n",
    "sex_encoder=LabelEncoder()\n",
    "titanic['sex']= sex_encoder.fit_transform(titanic['sex'])\n",
    "\n",
    "# age  \n",
    "age_imputer = SimpleImputer(strategy='mean')\n",
    "titanic['age']=age_imputer.fit_transform(titanic[['age']])\n",
    "\n",
    "#fare\n",
    "fare_imputer = SimpleImputer(strategy='mean')\n",
    "titanic['fare'] = fare_imputer.fit_transform(titanic[['fare']])"
   ]
  },
  {
   "cell_type": "code",
   "execution_count": 143,
   "metadata": {},
   "outputs": [
    {
     "data": {
      "text/html": [
       "<div>\n",
       "<style scoped>\n",
       "    .dataframe tbody tr th:only-of-type {\n",
       "        vertical-align: middle;\n",
       "    }\n",
       "\n",
       "    .dataframe tbody tr th {\n",
       "        vertical-align: top;\n",
       "    }\n",
       "\n",
       "    .dataframe thead th {\n",
       "        text-align: right;\n",
       "    }\n",
       "</style>\n",
       "<table border=\"1\" class=\"dataframe\">\n",
       "  <thead>\n",
       "    <tr style=\"text-align: right;\">\n",
       "      <th></th>\n",
       "      <th>pclass</th>\n",
       "      <th>survived</th>\n",
       "      <th>sex</th>\n",
       "      <th>age</th>\n",
       "      <th>sibsp</th>\n",
       "      <th>parch</th>\n",
       "      <th>fare</th>\n",
       "    </tr>\n",
       "  </thead>\n",
       "  <tbody>\n",
       "    <tr>\n",
       "      <th>0</th>\n",
       "      <td>1</td>\n",
       "      <td>1</td>\n",
       "      <td>0</td>\n",
       "      <td>29.0000</td>\n",
       "      <td>0</td>\n",
       "      <td>0</td>\n",
       "      <td>211.3375</td>\n",
       "    </tr>\n",
       "    <tr>\n",
       "      <th>1</th>\n",
       "      <td>1</td>\n",
       "      <td>1</td>\n",
       "      <td>1</td>\n",
       "      <td>0.9167</td>\n",
       "      <td>1</td>\n",
       "      <td>2</td>\n",
       "      <td>151.5500</td>\n",
       "    </tr>\n",
       "    <tr>\n",
       "      <th>2</th>\n",
       "      <td>1</td>\n",
       "      <td>0</td>\n",
       "      <td>0</td>\n",
       "      <td>2.0000</td>\n",
       "      <td>1</td>\n",
       "      <td>2</td>\n",
       "      <td>151.5500</td>\n",
       "    </tr>\n",
       "    <tr>\n",
       "      <th>3</th>\n",
       "      <td>1</td>\n",
       "      <td>0</td>\n",
       "      <td>1</td>\n",
       "      <td>30.0000</td>\n",
       "      <td>1</td>\n",
       "      <td>2</td>\n",
       "      <td>151.5500</td>\n",
       "    </tr>\n",
       "    <tr>\n",
       "      <th>4</th>\n",
       "      <td>1</td>\n",
       "      <td>0</td>\n",
       "      <td>0</td>\n",
       "      <td>25.0000</td>\n",
       "      <td>1</td>\n",
       "      <td>2</td>\n",
       "      <td>151.5500</td>\n",
       "    </tr>\n",
       "  </tbody>\n",
       "</table>\n",
       "</div>"
      ],
      "text/plain": [
       "   pclass  survived  sex      age  sibsp  parch      fare\n",
       "0       1         1    0  29.0000      0      0  211.3375\n",
       "1       1         1    1   0.9167      1      2  151.5500\n",
       "2       1         0    0   2.0000      1      2  151.5500\n",
       "3       1         0    1  30.0000      1      2  151.5500\n",
       "4       1         0    0  25.0000      1      2  151.5500"
      ]
     },
     "execution_count": 143,
     "metadata": {},
     "output_type": "execute_result"
    }
   ],
   "source": [
    "titanic.head(5)"
   ]
  },
  {
   "cell_type": "code",
   "execution_count": 144,
   "metadata": {},
   "outputs": [
    {
     "data": {
      "text/plain": [
       "0"
      ]
     },
     "execution_count": 144,
     "metadata": {},
     "output_type": "execute_result"
    }
   ],
   "source": [
    "titanic.isnull().sum().sum()"
   ]
  },
  {
   "cell_type": "code",
   "execution_count": 106,
   "metadata": {},
   "outputs": [],
   "source": [
    "\n",
    "# extracting features and target from our data: titanic\n",
    "x = titanic[['pclass','sex','age','sibsp','parch','fare']]\n",
    "y = titanic['survived']\n"
   ]
  },
  {
   "cell_type": "code",
   "execution_count": 107,
   "metadata": {},
   "outputs": [
    {
     "data": {
      "text/plain": [
       "((981, 6), (328,))"
      ]
     },
     "execution_count": 107,
     "metadata": {},
     "output_type": "execute_result"
    }
   ],
   "source": [
    "# splitting data with test size of 25%\n",
    "x_train , x_test , y_train, y_test =train_test_split(x,y,random_state=0)\n",
    "(x_train.shape,y_test.shape)"
   ]
  },
  {
   "cell_type": "markdown",
   "metadata": {},
   "source": [
    "# Logistic Regression"
   ]
  },
  {
   "cell_type": "code",
   "execution_count": 108,
   "metadata": {},
   "outputs": [
    {
     "data": {
      "text/plain": [
       "LogisticRegression()"
      ]
     },
     "execution_count": 108,
     "metadata": {},
     "output_type": "execute_result"
    }
   ],
   "source": [
    "logreg = LogisticRegression()# build our logistic model \n",
    "logreg.fit(x_train,y_train)# fiting training data"
   ]
  },
  {
   "cell_type": "code",
   "execution_count": 109,
   "metadata": {},
   "outputs": [
    {
     "name": "stdout",
     "output_type": "stream",
     "text": [
      "Accuracy=0.79\n"
     ]
    }
   ],
   "source": [
    "print(\"Accuracy={:.2f}\".format(logreg.score(x_test, y_test))) # model's score\n"
   ]
  },
  {
   "cell_type": "code",
   "execution_count": 122,
   "metadata": {},
   "outputs": [],
   "source": [
    "# survie function  to predict if a passenger will survive or not\n",
    "\n",
    "def survie(model,pclass=3,sex=1, age=35, sibsp=0, parch=0, fare=14):\n",
    "    x=np.array([[pclass,sex,age,sibsp,parch,fare]])\n",
    "    print(model.predict(x))\n",
    "    # model predict proba\n",
    "    print(model.predict_proba(x))\n",
    "\n",
    "    \n",
    "  "
   ]
  },
  {
   "cell_type": "code",
   "execution_count": 123,
   "metadata": {},
   "outputs": [
    {
     "name": "stdout",
     "output_type": "stream",
     "text": [
      "[0]\n",
      "[[0.89584466 0.10415534]]\n"
     ]
    }
   ],
   "source": [
    "survie(logreg)\n",
    "# probabilité de survivre = 0.89 c  pour cette raison il appartient à la classe 0 "
   ]
  },
  {
   "cell_type": "code",
   "execution_count": 128,
   "metadata": {},
   "outputs": [
    {
     "name": "stdout",
     "output_type": "stream",
     "text": [
      "[1]\n",
      "[[0.31660943 0.68339057]]\n"
     ]
    }
   ],
   "source": [
    " # another sample\n",
    "survie(logreg , pclass=2 , sex=0 , age=50)\n"
   ]
  },
  {
   "cell_type": "markdown",
   "metadata": {},
   "source": [
    "# Evaluate logistic Regression performance"
   ]
  },
  {
   "cell_type": "code",
   "execution_count": 86,
   "metadata": {},
   "outputs": [
    {
     "data": {
      "text/plain": [
       "<matplotlib.axes._subplots.AxesSubplot at 0x2290e45f4f0>"
      ]
     },
     "execution_count": 86,
     "metadata": {},
     "output_type": "execute_result"
    },
    {
     "data": {
      "image/png": "[encoded data removed]",
      "text/plain": [
       "<Figure size 432x288 with 2 Axes>"
      ]
     },
     "metadata": {
      "needs_background": "light"
     },
     "output_type": "display_data"
    }
   ],
   "source": [
    "\n",
    "# compute confusion matrics to evaluate the accurancy of a classification\n",
    "confusion_matrix=pd.crosstab(y_test,logreg.predict(x_test),rownames=['Actual'], colnames=['Predicted'])\n",
    "sns.heatmap(confusion_matrix , annot=True)\n"
   ]
  },
  {
   "cell_type": "markdown",
   "metadata": {},
   "source": [
    "# Classification report"
   ]
  },
  {
   "cell_type": "code",
   "execution_count": 90,
   "metadata": {},
   "outputs": [
    {
     "name": "stdout",
     "output_type": "stream",
     "text": [
      "              precision    recall  f1-score   support\n",
      "\n",
      "           0       0.82      0.87      0.84       208\n",
      "           1       0.75      0.66      0.70       120\n",
      "\n",
      "    accuracy                           0.79       328\n",
      "   macro avg       0.78      0.76      0.77       328\n",
      "weighted avg       0.79      0.79      0.79       328\n",
      "\n"
     ]
    }
   ],
   "source": [
    "# build a text report showing the main classification metrics\n",
    "print(classification_report(y_test, logreg.predict(x_test)))"
   ]
  },
  {
   "cell_type": "markdown",
   "metadata": {},
   "source": [
    "roc auc _score compute Area Under the Receiver Operating Characteristic Curve (ROC AUC) from prediction scores.We can  used it with binary(our case), multiclass and multilabel classification. \n",
    " \n",
    " https://scikit-learn.org/stable/modules/generated/sklearn.metrics.roc_auc_score.html#sklearn.metrics.roc_auc_score\n",
    "\n"
   ]
  },
  {
   "cell_type": "code",
   "execution_count": 141,
   "metadata": {},
   "outputs": [
    {
     "data": {
      "text/plain": [
       "array([[0.90607562, 0.09392438],\n",
       "       [0.1573322 , 0.8426678 ],\n",
       "       [0.8597215 , 0.1402785 ],\n",
       "       [0.87898569, 0.12101431],\n",
       "       [0.70595172, 0.29404828],\n",
       "       [0.27807868, 0.72192132],\n",
       "       [0.67727692, 0.32272308],\n",
       "       [0.70300424, 0.29699576],\n",
       "       [0.87803427, 0.12196573],\n",
       "       [0.88080817, 0.11919183],\n",
       "       [0.74651359, 0.25348641],\n",
       "       [0.91843025, 0.08156975],\n",
       "       [0.63478998, 0.36521002],\n",
       "       [0.28800502, 0.71199498],\n",
       "       [0.08055523, 0.91944477],\n",
       "       [0.71089722, 0.28910278],\n",
       "       [0.36863677, 0.63136323],\n",
       "       [0.61472614, 0.38527386],\n",
       "       [0.17596413, 0.82403587],\n",
       "       [0.89113974, 0.10886026],\n",
       "       [0.85122983, 0.14877017],\n",
       "       [0.95152496, 0.04847504],\n",
       "       [0.87426253, 0.12573747],\n",
       "       [0.06611927, 0.93388073],\n",
       "       [0.83572765, 0.16427235],\n",
       "       [0.26332727, 0.73667273],\n",
       "       [0.67611296, 0.32388704],\n",
       "       [0.89737245, 0.10262755],\n",
       "       [0.8786982 , 0.1213018 ],\n",
       "       [0.26293853, 0.73706147],\n",
       "       [0.21193173, 0.78806827],\n",
       "       [0.05503875, 0.94496125],\n",
       "       [0.16543185, 0.83456815],\n",
       "       [0.65794068, 0.34205932],\n",
       "       [0.19117038, 0.80882962],\n",
       "       [0.88096045, 0.11903955],\n",
       "       [0.89118012, 0.10881988],\n",
       "       [0.50766959, 0.49233041],\n",
       "       [0.88105951, 0.11894049],\n",
       "       [0.8590754 , 0.1409246 ],\n",
       "       [0.88105244, 0.11894756],\n",
       "       [0.86301707, 0.13698293],\n",
       "       [0.72206194, 0.27793806],\n",
       "       [0.64971269, 0.35028731],\n",
       "       [0.42495809, 0.57504191],\n",
       "       [0.9265104 , 0.0734896 ],\n",
       "       [0.89622105, 0.10377895],\n",
       "       [0.129239  , 0.870761  ],\n",
       "       [0.74911262, 0.25088738],\n",
       "       [0.880638  , 0.119362  ],\n",
       "       [0.13694517, 0.86305483],\n",
       "       [0.88087194, 0.11912806],\n",
       "       [0.85912579, 0.14087421],\n",
       "       [0.41700804, 0.58299196],\n",
       "       [0.86682162, 0.13317838],\n",
       "       [0.88082589, 0.11917411],\n",
       "       [0.07898219, 0.92101781],\n",
       "       [0.54604505, 0.45395495],\n",
       "       [0.31682072, 0.68317928],\n",
       "       [0.13646721, 0.86353279],\n",
       "       [0.84193448, 0.15806552],\n",
       "       [0.65543524, 0.34456476],\n",
       "       [0.49397146, 0.50602854],\n",
       "       [0.84017532, 0.15982468],\n",
       "       [0.43698492, 0.56301508],\n",
       "       [0.1999337 , 0.8000663 ],\n",
       "       [0.709508  , 0.290492  ],\n",
       "       [0.88105951, 0.11894049],\n",
       "       [0.8467975 , 0.1532025 ],\n",
       "       [0.28909277, 0.71090723],\n",
       "       [0.20398763, 0.79601237],\n",
       "       [0.89758257, 0.10241743],\n",
       "       [0.53456187, 0.46543813],\n",
       "       [0.93660372, 0.06339628],\n",
       "       [0.37513108, 0.62486892],\n",
       "       [0.08102794, 0.91897206],\n",
       "       [0.66889892, 0.33110108],\n",
       "       [0.16786335, 0.83213665],\n",
       "       [0.45933558, 0.54066442],\n",
       "       [0.88091089, 0.11908911],\n",
       "       [0.55798801, 0.44201199],\n",
       "       [0.20783398, 0.79216602],\n",
       "       [0.75566132, 0.24433868],\n",
       "       [0.63308118, 0.36691882],\n",
       "       [0.5459279 , 0.4540721 ],\n",
       "       [0.06970286, 0.93029714],\n",
       "       [0.84916207, 0.15083793],\n",
       "       [0.92845404, 0.07154596],\n",
       "       [0.75412553, 0.24587447],\n",
       "       [0.86639736, 0.13360264],\n",
       "       [0.88105951, 0.11894049],\n",
       "       [0.88105951, 0.11894049],\n",
       "       [0.91649017, 0.08350983],\n",
       "       [0.87674681, 0.12325319],\n",
       "       [0.93948759, 0.06051241],\n",
       "       [0.6303274 , 0.3696726 ],\n",
       "       [0.81410369, 0.18589631],\n",
       "       [0.45354134, 0.54645866],\n",
       "       [0.7625934 , 0.2374066 ],\n",
       "       [0.13584592, 0.86415408],\n",
       "       [0.60468823, 0.39531177],\n",
       "       [0.88491358, 0.11508642],\n",
       "       [0.6625202 , 0.3374798 ],\n",
       "       [0.46026915, 0.53973085],\n",
       "       [0.88082365, 0.11917635],\n",
       "       [0.85197381, 0.14802619],\n",
       "       [0.34292688, 0.65707312],\n",
       "       [0.88071012, 0.11928988],\n",
       "       [0.8973341 , 0.1026659 ],\n",
       "       [0.66054761, 0.33945239],\n",
       "       [0.52110482, 0.47889518],\n",
       "       [0.5446474 , 0.4553526 ],\n",
       "       [0.63020887, 0.36979113],\n",
       "       [0.6847152 , 0.3152848 ],\n",
       "       [0.31520611, 0.68479389],\n",
       "       [0.83766894, 0.16233106],\n",
       "       [0.62254321, 0.37745679],\n",
       "       [0.74656006, 0.25343994],\n",
       "       [0.77174894, 0.22825106],\n",
       "       [0.21916141, 0.78083859],\n",
       "       [0.66298689, 0.33701311],\n",
       "       [0.8226484 , 0.1773516 ],\n",
       "       [0.53609261, 0.46390739],\n",
       "       [0.45582667, 0.54417333],\n",
       "       [0.91125632, 0.08874368],\n",
       "       [0.88091089, 0.11908911],\n",
       "       [0.88086959, 0.11913041],\n",
       "       [0.87088453, 0.12911547],\n",
       "       [0.50806986, 0.49193014],\n",
       "       [0.72825242, 0.27174758],\n",
       "       [0.88086959, 0.11913041],\n",
       "       [0.53609261, 0.46390739],\n",
       "       [0.83931428, 0.16068572],\n",
       "       [0.40568605, 0.59431395],\n",
       "       [0.85571718, 0.14428282],\n",
       "       [0.85100889, 0.14899111],\n",
       "       [0.89535713, 0.10464287],\n",
       "       [0.37520754, 0.62479246],\n",
       "       [0.85539724, 0.14460276],\n",
       "       [0.37488587, 0.62511413],\n",
       "       [0.65280257, 0.34719743],\n",
       "       [0.18481881, 0.81518119],\n",
       "       [0.84661937, 0.15338063],\n",
       "       [0.83805832, 0.16194168],\n",
       "       [0.80732164, 0.19267836],\n",
       "       [0.53422597, 0.46577403],\n",
       "       [0.33198888, 0.66801112],\n",
       "       [0.88086959, 0.11913041],\n",
       "       [0.12338975, 0.87661025],\n",
       "       [0.53687868, 0.46312132],\n",
       "       [0.43481462, 0.56518538],\n",
       "       [0.81788279, 0.18211721],\n",
       "       [0.69724933, 0.30275067],\n",
       "       [0.10997824, 0.89002176],\n",
       "       [0.87780735, 0.12219265],\n",
       "       [0.88105832, 0.11894168],\n",
       "       [0.34843411, 0.65156589],\n",
       "       [0.07589023, 0.92410977],\n",
       "       [0.88146693, 0.11853307],\n",
       "       [0.87470612, 0.12529388],\n",
       "       [0.89587104, 0.10412896],\n",
       "       [0.67065041, 0.32934959],\n",
       "       [0.74651574, 0.25348426],\n",
       "       [0.47078667, 0.52921333],\n",
       "       [0.86309295, 0.13690705],\n",
       "       [0.3684563 , 0.6315437 ],\n",
       "       [0.88091089, 0.11908911],\n",
       "       [0.84098642, 0.15901358],\n",
       "       [0.90881988, 0.09118012],\n",
       "       [0.86104656, 0.13895344],\n",
       "       [0.74872541, 0.25127459],\n",
       "       [0.62285529, 0.37714471],\n",
       "       [0.3751126 , 0.6248874 ],\n",
       "       [0.85860077, 0.14139923],\n",
       "       [0.28145699, 0.71854301],\n",
       "       [0.87822208, 0.12177792],\n",
       "       [0.84245478, 0.15754522],\n",
       "       [0.07763758, 0.92236242],\n",
       "       [0.27288724, 0.72711276],\n",
       "       [0.07405254, 0.92594746],\n",
       "       [0.02910046, 0.97089954],\n",
       "       [0.88091089, 0.11908911],\n",
       "       [0.50769128, 0.49230872],\n",
       "       [0.64470584, 0.35529416],\n",
       "       [0.19437662, 0.80562338],\n",
       "       [0.46003689, 0.53996311],\n",
       "       [0.21516831, 0.78483169],\n",
       "       [0.88105832, 0.11894168],\n",
       "       [0.84279076, 0.15720924],\n",
       "       [0.82381817, 0.17618183],\n",
       "       [0.61682087, 0.38317913],\n",
       "       [0.59703737, 0.40296263],\n",
       "       [0.10474616, 0.89525384],\n",
       "       [0.74853719, 0.25146281],\n",
       "       [0.58635607, 0.41364393],\n",
       "       [0.46965601, 0.53034399],\n",
       "       [0.87076832, 0.12923168],\n",
       "       [0.17354783, 0.82645217],\n",
       "       [0.85466935, 0.14533065],\n",
       "       [0.82543743, 0.17456257],\n",
       "       [0.81244799, 0.18755201],\n",
       "       [0.88082589, 0.11917411],\n",
       "       [0.85095609, 0.14904391],\n",
       "       [0.14598826, 0.85401174],\n",
       "       [0.6760387 , 0.3239613 ],\n",
       "       [0.83815906, 0.16184094],\n",
       "       [0.82545767, 0.17454233],\n",
       "       [0.93397747, 0.06602253],\n",
       "       [0.82902821, 0.17097179],\n",
       "       [0.89427692, 0.10572308],\n",
       "       [0.37504931, 0.62495069],\n",
       "       [0.53086536, 0.46913464],\n",
       "       [0.70271073, 0.29728927],\n",
       "       [0.93655561, 0.06344439],\n",
       "       [0.18547106, 0.81452894],\n",
       "       [0.85938185, 0.14061815],\n",
       "       [0.82543743, 0.17456257],\n",
       "       [0.94477063, 0.05522937],\n",
       "       [0.81660381, 0.18339619],\n",
       "       [0.88110902, 0.11889098],\n",
       "       [0.08614169, 0.91385831],\n",
       "       [0.39727012, 0.60272988],\n",
       "       [0.16467699, 0.83532301],\n",
       "       [0.06796505, 0.93203495],\n",
       "       [0.24685575, 0.75314425],\n",
       "       [0.92748129, 0.07251871],\n",
       "       [0.45933558, 0.54066442],\n",
       "       [0.14812686, 0.85187314],\n",
       "       [0.21813754, 0.78186246],\n",
       "       [0.26967026, 0.73032974],\n",
       "       [0.21435296, 0.78564704],\n",
       "       [0.63291653, 0.36708347],\n",
       "       [0.86324974, 0.13675026],\n",
       "       [0.32341344, 0.67658656],\n",
       "       [0.84203326, 0.15796674],\n",
       "       [0.90523394, 0.09476606],\n",
       "       [0.37514956, 0.62485044],\n",
       "       [0.91732345, 0.08267655],\n",
       "       [0.84489964, 0.15510036],\n",
       "       [0.8485507 , 0.1514493 ],\n",
       "       [0.88146574, 0.11853426],\n",
       "       [0.65926883, 0.34073117],\n",
       "       [0.87881327, 0.12118673],\n",
       "       [0.74755953, 0.25244047],\n",
       "       [0.84683399, 0.15316601],\n",
       "       [0.81885626, 0.18114374],\n",
       "       [0.53821572, 0.46178428],\n",
       "       [0.65543524, 0.34456476],\n",
       "       [0.38696592, 0.61303408],\n",
       "       [0.94043844, 0.05956156],\n",
       "       [0.88145987, 0.11854013],\n",
       "       [0.88293746, 0.11706254],\n",
       "       [0.55254672, 0.44745328],\n",
       "       [0.87781338, 0.12218662],\n",
       "       [0.28836199, 0.71163801],\n",
       "       [0.88105951, 0.11894049],\n",
       "       [0.39189628, 0.60810372],\n",
       "       [0.85095609, 0.14904391],\n",
       "       [0.88086959, 0.11913041],\n",
       "       [0.7482936 , 0.2517064 ],\n",
       "       [0.72282295, 0.27717705],\n",
       "       [0.88082589, 0.11917411],\n",
       "       [0.86303446, 0.13696554],\n",
       "       [0.09188642, 0.90811358],\n",
       "       [0.88091562, 0.11908438],\n",
       "       [0.28915059, 0.71084941],\n",
       "       [0.80271489, 0.19728511],\n",
       "       [0.83820484, 0.16179516],\n",
       "       [0.82899619, 0.17100381],\n",
       "       [0.42114795, 0.57885205],\n",
       "       [0.53724788, 0.46275212],\n",
       "       [0.07888046, 0.92111954],\n",
       "       [0.84685879, 0.15314121],\n",
       "       [0.85095609, 0.14904391],\n",
       "       [0.88086959, 0.11913041],\n",
       "       [0.22700818, 0.77299182],\n",
       "       [0.16067037, 0.83932963],\n",
       "       [0.04833209, 0.95166791],\n",
       "       [0.64712568, 0.35287432],\n",
       "       [0.25241865, 0.74758135],\n",
       "       [0.55464746, 0.44535254],\n",
       "       [0.40365771, 0.59634229],\n",
       "       [0.6304347 , 0.3695653 ],\n",
       "       [0.66678689, 0.33321311],\n",
       "       [0.41517985, 0.58482015],\n",
       "       [0.8778194 , 0.1221806 ],\n",
       "       [0.9003501 , 0.0996499 ],\n",
       "       [0.89756395, 0.10243605],\n",
       "       [0.13065244, 0.86934756],\n",
       "       [0.5865929 , 0.4134071 ],\n",
       "       [0.31611257, 0.68388743],\n",
       "       [0.88105832, 0.11894168],\n",
       "       [0.20484123, 0.79515877],\n",
       "       [0.37504931, 0.62495069],\n",
       "       [0.38121021, 0.61878979],\n",
       "       [0.88091089, 0.11908911],\n",
       "       [0.45893329, 0.54106671],\n",
       "       [0.93691216, 0.06308784],\n",
       "       [0.8336586 , 0.1663414 ],\n",
       "       [0.92148905, 0.07851095],\n",
       "       [0.67611296, 0.32388704],\n",
       "       [0.37612073, 0.62387927],\n",
       "       [0.91472961, 0.08527039],\n",
       "       [0.85925645, 0.14074355],\n",
       "       [0.31296249, 0.68703751],\n",
       "       [0.91231995, 0.08768005],\n",
       "       [0.13760914, 0.86239086],\n",
       "       [0.89996083, 0.10003917],\n",
       "       [0.37494123, 0.62505877],\n",
       "       [0.8777989 , 0.1222011 ],\n",
       "       [0.13044646, 0.86955354],\n",
       "       [0.53729822, 0.46270178],\n",
       "       [0.88090381, 0.11909619],\n",
       "       [0.89515142, 0.10484858],\n",
       "       [0.88105951, 0.11894049],\n",
       "       [0.23622054, 0.76377946],\n",
       "       [0.84223517, 0.15776483],\n",
       "       [0.05770668, 0.94229332],\n",
       "       [0.52510706, 0.47489294],\n",
       "       [0.06659272, 0.93340728],\n",
       "       [0.8854534 , 0.1145466 ],\n",
       "       [0.6399574 , 0.3600426 ],\n",
       "       [0.29280339, 0.70719661],\n",
       "       [0.67463309, 0.32536691],\n",
       "       [0.22183886, 0.77816114],\n",
       "       [0.85913939, 0.14086061],\n",
       "       [0.58905885, 0.41094115],\n",
       "       [0.84252493, 0.15747507]])"
      ]
     },
     "execution_count": 141,
     "metadata": {},
     "output_type": "execute_result"
    }
   ],
   "source": [
    "logreg.predict_proba(x_test)"
   ]
  },
  {
   "cell_type": "code",
   "execution_count": 142,
   "metadata": {},
   "outputs": [
    {
     "data": {
      "text/plain": [
       "0.8386217948717948"
      ]
     },
     "execution_count": 142,
     "metadata": {},
     "output_type": "execute_result"
    }
   ],
   "source": [
    "roc_auc_score(y_test,logreg.predict_proba(x_test)[:, 1])"
   ]
  },
  {
   "cell_type": "code",
   "execution_count": null,
   "metadata": {},
   "outputs": [],
   "source": []
  }
 ],
 "metadata": {
  "kernelspec": {
   "display_name": "Python 3",
   "language": "python",
   "name": "python3"
  },
  "language_info": {
   "codemirror_mode": {
    "name": "ipython",
    "version": 3
   },
   "file_extension": ".py",
   "mimetype": "text/x-python",
   "name": "python",
   "nbconvert_exporter": "python",
   "pygments_lexer": "ipython3",
   "version": "3.8.3"
  }
 },
 "nbformat": 4,
 "nbformat_minor": 4
}
