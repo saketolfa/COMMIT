{
 "cells": [
  {
   "cell_type": "markdown",
   "metadata": {},
   "source": [
    "#                                          Checkpoint 2"
   ]
  },
  {
   "cell_type": "code",
   "execution_count": 25,
   "metadata": {},
   "outputs": [],
   "source": [
    "import numpy as np\n",
    "from math import *"
   ]
  },
  {
   "cell_type": "markdown",
   "metadata": {},
   "source": [
    "#   Question 1"
   ]
  },
  {
   "cell_type": "code",
   "execution_count": 2,
   "metadata": {},
   "outputs": [
    {
     "name": "stdout",
     "output_type": "stream",
     "text": [
      "All such numbers which are divisible by 7 but are not a multiple of 5, between 2000 and 3200 \n",
      "\n",
      "[2002, 2009, 2016, 2023, 2037, 2044, 2051, 2058, 2072, 2079, 2086, 2093, 2107, 2114, 2121, 2128, 2142, 2149, 2156, 2163, 2177, 2184, 2191, 2198, 2212, 2219, 2226, 2233, 2247, 2254, 2261, 2268, 2282, 2289, 2296, 2303, 2317, 2324, 2331, 2338, 2352, 2359, 2366, 2373, 2387, 2394, 2401, 2408, 2422, 2429, 2436, 2443, 2457, 2464, 2471, 2478, 2492, 2499, 2506, 2513, 2527, 2534, 2541, 2548, 2562, 2569, 2576, 2583, 2597, 2604, 2611, 2618, 2632, 2639, 2646, 2653, 2667, 2674, 2681, 2688, 2702, 2709, 2716, 2723, 2737, 2744, 2751, 2758, 2772, 2779, 2786, 2793, 2807, 2814, 2821, 2828, 2842, 2849, 2856, 2863, 2877, 2884, 2891, 2898, 2912, 2919, 2926, 2933, 2947, 2954, 2961, 2968, 2982, 2989, 2996, 3003, 3017, 3024, 3031, 3038, 3052, 3059, 3066, 3073, 3087, 3094, 3101, 3108, 3122, 3129, 3136, 3143, 3157, 3164, 3171, 3178, 3192, 3199]\n"
     ]
    }
   ],
   "source": [
    "list_numbers=[]\n",
    "\n",
    "for i in range(2000,3201) :\n",
    "    if i%7 ==0 and i%5 !=0 :\n",
    "       list_numbers.append(i)\n",
    "\n",
    "print(\"All such numbers which are divisible by 7 but are not a multiple of 5, between 2000 and 3200 \\n\")\n",
    "print(list_numbers) "
   ]
  },
  {
   "cell_type": "markdown",
   "metadata": {},
   "source": [
    "# Question 2"
   ]
  },
  {
   "cell_type": "code",
   "execution_count": 7,
   "metadata": {},
   "outputs": [
    {
     "name": "stdout",
     "output_type": "stream",
     "text": [
      "Input an integer : 10\n",
      "10 !=  3628800\n"
     ]
    }
   ],
   "source": [
    "n=int(input(\"Input an integer: \"))\n",
    "fact=1\n",
    "\n",
    "for i in range(2,n+1):\n",
    "    fact=fact*i\n",
    "        \n",
    "print(n,'!= ',fact)"
   ]
  },
  {
   "cell_type": "markdown",
   "metadata": {},
   "source": [
    "# Question3"
   ]
  },
  {
   "cell_type": "code",
   "execution_count": 28,
   "metadata": {},
   "outputs": [
    {
     "name": "stdout",
     "output_type": "stream",
     "text": [
      "Input an integer: olfa\n",
      "No valid integer! Please try again...  \n",
      "Input an integer: 10\n",
      "For  n= 10 {1: 1, 2: 4, 3: 9, 4: 16, 5: 25, 6: 36, 7: 49, 8: 64, 9: 81, 10: 100}\n"
     ]
    }
   ],
   "source": [
    "while True:\n",
    "    \n",
    "    try:\n",
    "        \n",
    "      n=int(input(\"Input an integer: \"))\n",
    "      \n",
    "      my_dict={}\n",
    "      for i in range(1,n+1):\n",
    "         my_dict[i]=i*i\n",
    "        \n",
    "      print('For  n=',n,my_dict)\n",
    "      break\n",
    "      \n",
    "    except ValueError :\n",
    "        \n",
    "      print('No valid integer! Please try again...  ')"
   ]
  },
  {
   "cell_type": "markdown",
   "metadata": {},
   "source": [
    "# Question4"
   ]
  },
  {
   "cell_type": "code",
   "execution_count": 17,
   "metadata": {},
   "outputs": [],
   "source": [
    "def missing_char(ch,index):\n",
    "    \n",
    "    # Empty String \n",
    "    if not ch:\n",
    "       return 'Empty String' \n",
    "    \n",
    "    # invalid index\n",
    "    elif index not in range(0,len(ch)):\n",
    "       return  'Invalid index'\n",
    "\n",
    "    #remove\n",
    "    else: \n",
    "       ch_liste=list(ch) \n",
    "       del ch_liste[index]\n",
    "       return ''.join(ch_liste)"
   ]
  },
  {
   "cell_type": "code",
   "execution_count": 21,
   "metadata": {},
   "outputs": [
    {
     "name": "stdout",
     "output_type": "stream",
     "text": [
      "Input non-empty string:  \n",
      "Input an index:7\n",
      "--> Empty String\n"
     ]
    }
   ],
   "source": [
    "string=input('Input non-empty string:  ')\n",
    "index= int(input('Input an index:' ))\n",
    "\n",
    "new_string=missing_char(string,index)\n",
    "\n",
    "print('-->',new_string)\n"
   ]
  },
  {
   "cell_type": "markdown",
   "metadata": {},
   "source": [
    "# Question5"
   ]
  },
  {
   "cell_type": "code",
   "execution_count": 28,
   "metadata": {},
   "outputs": [
    {
     "name": "stdout",
     "output_type": "stream",
     "text": [
      "Numpy array [[1 4]\n",
      " [7 6]\n",
      " [5 2]]\n",
      "Numpy array to list [[1, 4], [7, 6], [5, 2]]\n"
     ]
    }
   ],
   "source": [
    "# 2d array\n",
    "array=np.array([[1,4],[7,6],[5,2]])\n",
    "\n",
    "# numpy to list\n",
    "liste= array.tolist()\n",
    "\n",
    "print('Numpy array',array)\n",
    "print('Numpy array to list',liste)"
   ]
  },
  {
   "cell_type": "markdown",
   "metadata": {},
   "source": [
    "# Question6"
   ]
  },
  {
   "cell_type": "code",
   "execution_count": 21,
   "metadata": {},
   "outputs": [
    {
     "name": "stdout",
     "output_type": "stream",
     "text": [
      "original array1\n",
      " [1.         1.11111111 1.22222222 1.33333333 1.44444444 1.55555556\n",
      " 1.66666667 1.77777778 1.88888889 2.        ]\n",
      "\n",
      "original array2\n",
      " [1.         1.2345679  1.49382716 1.77777778 2.08641975 2.41975309\n",
      " 2.77777778 3.16049383 3.56790123 4.        ]\n",
      "\n",
      "Covariance matrix of the said arrays:\n",
      " [[0.11316872 0.33950617]\n",
      " [0.33950617 1.02746024]]\n"
     ]
    }
   ],
   "source": [
    "x =np.linspace(1,2,10)\n",
    "y= x **2\n",
    "\n",
    "# the covariance matrix\n",
    "cov_xy= np.cov(x,y)\n",
    "\n",
    "print('Original array1\\n',x)\n",
    "print()\n",
    "print('Original array2\\n',y)\n",
    "print()\n",
    "print('Covariance matrix of the said arrays:\\n',cov_xy)"
   ]
  },
  {
   "cell_type": "markdown",
   "metadata": {},
   "source": [
    "# Question7"
   ]
  },
  {
   "cell_type": "code",
   "execution_count": 27,
   "metadata": {},
   "outputs": [
    {
     "name": "stdout",
     "output_type": "stream",
     "text": [
      "Enter D: 100,14,77\n",
      "18 7 16 "
     ]
    }
   ],
   "source": [
    "C = 50\n",
    "H = 30\n",
    "\n",
    "D_string=input('Enter D: ')\n",
    "D_val=D_string.split(',')\n",
    "for D in D_val:\n",
    "   Q = round(sqrt((2*C*int(D))/H))\n",
    "   print(Q ,end=' ')\n"
   ]
  },
  {
   "cell_type": "code",
   "execution_count": null,
   "metadata": {},
   "outputs": [],
   "source": []
  }
 ],
 "metadata": {
  "kernelspec": {
   "display_name": "Python 3",
   "language": "python",
   "name": "python3"
  },
  "language_info": {
   "codemirror_mode": {
    "name": "ipython",
    "version": 3
   },
   "file_extension": ".py",
   "mimetype": "text/x-python",
   "name": "python",
   "nbconvert_exporter": "python",
   "pygments_lexer": "ipython3",
   "version": "3.8.3"
  }
 },
 "nbformat": 4,
 "nbformat_minor": 4
}
